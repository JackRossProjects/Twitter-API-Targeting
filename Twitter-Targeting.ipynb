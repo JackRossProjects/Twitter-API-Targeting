{
 "cells": [
  {
   "cell_type": "markdown",
   "metadata": {},
   "source": [
    "# MNTN Co. Twitter Analytics"
   ]
  },
  {
   "cell_type": "markdown",
   "metadata": {},
   "source": [
    "Twitter API Rate Limits: https://developer.twitter.com/en/docs/twitter-api/v1/rate-limits\n",
    "\n",
    "\"The maximum number of requests that are allowed is based on a time interval, some specified period or window of time. The most common request limit interval is fifteen minutes. If an endpoint has a rate limit of 900 requests/15-minutes, then up to 900 requests over any 15-minute interval is allowed.\" \n",
    "\n",
    "If the tweetDF dataframe at the bottom of this notebook is blank when printed, the rate limit has likely been exceeded."
   ]
  },
  {
   "cell_type": "markdown",
   "metadata": {},
   "source": [
    "![twitter rate limits per request type](https://i.imgur.com/62ZL105.png \"Rate Limit Per Action\")"
   ]
  },
  {
   "cell_type": "code",
   "execution_count": null,
   "metadata": {},
   "outputs": [],
   "source": [
    "import tweepy\n",
    "from tweepy.streaming import StreamListener\n",
    "from tweepy import OAuthHandler\n",
    "from tweepy import Stream\n",
    "\n",
    "import numpy as np\n",
    "import pandas as pd\n",
    "import re\n",
    "\n",
    "import seaborn as sns\n",
    "import matplotlib.pyplot as plt\n",
    "\n",
    "from nltk.corpus import stopwords\n",
    "from nltk import word_tokenize"
   ]
  },
  {
   "cell_type": "code",
   "execution_count": null,
   "metadata": {},
   "outputs": [],
   "source": [
    "# Initialization - below are my keys but we'll need to move to oAuth v2 and then setup an .env file for credentials\n",
    "auth = tweepy.OAuthHandler('xxxxx', 'xxxxx')\n",
    "auth.set_access_token('xxxxx', 'xxxxx')\n",
    "api = tweepy.API(auth)"
   ]
  },
  {
   "cell_type": "code",
   "execution_count": null,
   "metadata": {},
   "outputs": [],
   "source": [
    "# Number of tweets we want to collect\n",
    "tweet_number = 1000\n",
    "\n",
    "i = 0\n",
    "# Creates a dataframe of tweets, users, locations, followers, etc\n",
    "tweetDF = pd.DataFrame(columns = ['screen name','timeStamp','tweet', 'location', 'followers'])\n",
    "\n",
    "for tweet in tweepy.Cursor(api.search, q=\"clothing brand recommendations\", lang=\"en\").items(tweet_number):\n",
    "    # If a users meets our criteria, add them to the dataframe\n",
    "    if tweet.user.followers_count > 5000: # AND where tweet.user.location is in TARGET AREA\n",
    "        tweetDF.loc[i] = [tweet.user.screen_name, tweet.created_at,tweet.text, tweet.user.location, tweet.user.followers_count]\n",
    "        # Increment until we hit tweet_number at top of cell\n",
    "        i += 1"
   ]
  },
  {
   "cell_type": "code",
   "execution_count": null,
   "metadata": {},
   "outputs": [],
   "source": [
    "tweetDF"
   ]
  },
  {
   "cell_type": "code",
   "execution_count": null,
   "metadata": {},
   "outputs": [],
   "source": []
  }
 ],
 "metadata": {
  "kernelspec": {
   "display_name": "Python 3",
   "language": "python",
   "name": "python3"
  },
  "language_info": {
   "codemirror_mode": {
    "name": "ipython",
    "version": 3
   },
   "file_extension": ".py",
   "mimetype": "text/x-python",
   "name": "python",
   "nbconvert_exporter": "python",
   "pygments_lexer": "ipython3",
   "version": "3.7.4"
  }
 },
 "nbformat": 4,
 "nbformat_minor": 2
}
